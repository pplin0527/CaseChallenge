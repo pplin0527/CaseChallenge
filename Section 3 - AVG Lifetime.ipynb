{
 "cells": [
  {
   "cell_type": "markdown",
   "metadata": {},
   "source": [
    "# Section 3 - Average life time \n",
    "Questions \n",
    "1. What is the average lifetime of an email user (how long do they receive at least one of our email series)? \n",
    "1. Does that vary by referrer?\n"
   ]
  },
  {
   "cell_type": "markdown",
   "metadata": {},
   "source": [
    "Here, I tried 3 different ways to get the average life time. And I print out the run time of each methods. Finally I choosed function 3 as the most efficient ways to do it. This does not make any difference to my final conclusion. So I didn't put this part in my presentaion slides. Just want to show how I update and enhance a method. "
   ]
  },
  {
   "cell_type": "code",
   "execution_count": 1,
   "metadata": {
    "collapsed": false
   },
   "outputs": [],
   "source": [
    "import mysql.connector\n",
    "import pandas as pd \n",
    "import numpy as np\n",
    "import matplotlib.pyplot as plt  \n",
    "import datetime\n",
    "\n",
    "# Use ggplot as plt style\n",
    "plt.style.use('ggplot') "
   ]
  },
  {
   "cell_type": "code",
   "execution_count": 2,
   "metadata": {
    "collapsed": false
   },
   "outputs": [],
   "source": [
    "cnx = mysql.connector.connect(user='root', password='8xIt7ASAOzIh',\n",
    "                              host='dw-sandbox-rds.ccia3ag00jrs.us-west-2.rds.amazonaws.com',\n",
    "                              database='dw')"
   ]
  },
  {
   "cell_type": "code",
   "execution_count": 3,
   "metadata": {
    "collapsed": false
   },
   "outputs": [
    {
     "name": "stdout",
     "output_type": "stream",
     "text": [
      "104.49969 seconds\n"
     ]
    }
   ],
   "source": [
    "import time\n",
    "\n",
    "start_time = time.clock()\n",
    "query = \"\"\"\n",
    "    SELECT created_at,\n",
    "           baby_registry_101_subscribed_at as baby101,\n",
    "           newsletter_subscribed_at as news,\n",
    "           pregnancy_weekly_subscribed_at as preg,\n",
    "           sponsored_subscribed_at as sponsor,\n",
    "           IF(baby_registry_101_subscribed_at IS NULL, 0, 1) + IF(newsletter_subscribed_at IS NULL, 0, 1) + IF(pregnancy_weekly_subscribed_at IS NULL, 0, 1) + IF(sponsored_subscribed_at IS NULL, 0, 1) AS DIVERSITY,           \n",
    "           referrer,\n",
    "           source\n",
    "    FROM dim_users \n",
    "    WHERE DATE(created_at) > \"2017-02-08\"\n",
    "      AND is_active IS NOT NULL\n",
    "      AND IF(baby_registry_101_subscribed_at IS NULL, 0, 1) + IF(newsletter_subscribed_at IS NULL, 0, 1) + IF(pregnancy_weekly_subscribed_at IS NULL, 0, 1) + IF(sponsored_subscribed_at IS NULL, 0, 1) > 0\n",
    "\"\"\"\n",
    "df = pd.read_sql_query(query, con = cnx)\n",
    "print time.clock() - start_time, \"seconds\"\n"
   ]
  },
  {
   "cell_type": "code",
   "execution_count": 4,
   "metadata": {
    "collapsed": false
   },
   "outputs": [
    {
     "data": {
      "text/html": [
       "<div>\n",
       "<table border=\"1\" class=\"dataframe\">\n",
       "  <thead>\n",
       "    <tr style=\"text-align: right;\">\n",
       "      <th></th>\n",
       "      <th>created_at</th>\n",
       "      <th>baby101</th>\n",
       "      <th>news</th>\n",
       "      <th>preg</th>\n",
       "      <th>sponsor</th>\n",
       "      <th>DIVERSITY</th>\n",
       "      <th>referrer</th>\n",
       "      <th>source</th>\n",
       "    </tr>\n",
       "  </thead>\n",
       "  <tbody>\n",
       "    <tr>\n",
       "      <th>0</th>\n",
       "      <td>2017-02-09 00:00:26</td>\n",
       "      <td>2017-02-06 20:20:31</td>\n",
       "      <td>2017-02-24 01:01:58</td>\n",
       "      <td>None</td>\n",
       "      <td>NaT</td>\n",
       "      <td>2</td>\n",
       "      <td>None</td>\n",
       "      <td>checklist</td>\n",
       "    </tr>\n",
       "    <tr>\n",
       "      <th>1</th>\n",
       "      <td>2017-02-09 00:02:52</td>\n",
       "      <td>2017-02-11 00:00:46</td>\n",
       "      <td>2017-03-03 01:01:53</td>\n",
       "      <td>None</td>\n",
       "      <td>2017-04-07 18:18:24</td>\n",
       "      <td>3</td>\n",
       "      <td>None</td>\n",
       "      <td>registry</td>\n",
       "    </tr>\n",
       "    <tr>\n",
       "      <th>2</th>\n",
       "      <td>2017-02-09 00:03:06</td>\n",
       "      <td>2017-02-11 00:00:53</td>\n",
       "      <td>2017-03-03 01:01:56</td>\n",
       "      <td>None</td>\n",
       "      <td>NaT</td>\n",
       "      <td>2</td>\n",
       "      <td>None</td>\n",
       "      <td>registry</td>\n",
       "    </tr>\n",
       "  </tbody>\n",
       "</table>\n",
       "</div>"
      ],
      "text/plain": [
       "           created_at             baby101                news  preg  \\\n",
       "0 2017-02-09 00:00:26 2017-02-06 20:20:31 2017-02-24 01:01:58  None   \n",
       "1 2017-02-09 00:02:52 2017-02-11 00:00:46 2017-03-03 01:01:53  None   \n",
       "2 2017-02-09 00:03:06 2017-02-11 00:00:53 2017-03-03 01:01:56  None   \n",
       "\n",
       "              sponsor  DIVERSITY referrer     source  \n",
       "0                 NaT          2     None  checklist  \n",
       "1 2017-04-07 18:18:24          3     None   registry  \n",
       "2                 NaT          2     None   registry  "
      ]
     },
     "execution_count": 4,
     "metadata": {},
     "output_type": "execute_result"
    }
   ],
   "source": [
    "df.head(3)"
   ]
  },
  {
   "cell_type": "code",
   "execution_count": 5,
   "metadata": {
    "collapsed": false
   },
   "outputs": [
    {
     "data": {
      "text/plain": [
       "(819474, 8)"
      ]
     },
     "execution_count": 5,
     "metadata": {},
     "output_type": "execute_result"
    }
   ],
   "source": [
    "df.shape"
   ]
  },
  {
   "cell_type": "code",
   "execution_count": 6,
   "metadata": {
    "collapsed": true
   },
   "outputs": [],
   "source": [
    "def is_datetime(data):\n",
    "    return isinstance(data, datetime.date)\n",
    "def is_not_nat(data):\n",
    "    result = type(data) != pd.tslib.NaTType\n",
    "    return result"
   ]
  },
  {
   "cell_type": "markdown",
   "metadata": {},
   "source": [
    "### Function 1"
   ]
  },
  {
   "cell_type": "code",
   "execution_count": 9,
   "metadata": {
    "collapsed": true
   },
   "outputs": [],
   "source": [
    "def life_time(data):\n",
    "    lf_time = []\n",
    "    dt_check = data.applymap(is_datetime)\n",
    "    for i in range(0, data.shape[0]):\n",
    "        lf_time.append(min(data.iloc[i, :][dt_check.iloc[i, :]]))\n",
    "    return lf_time"
   ]
  },
  {
   "cell_type": "markdown",
   "metadata": {},
   "source": [
    "##### Function 1\n",
    "Sample : 1000, Time: 0.971258 seconds"
   ]
  },
  {
   "cell_type": "markdown",
   "metadata": {},
   "source": [
    "Sample: All, Time : 851.704755 seconds"
   ]
  },
  {
   "cell_type": "markdown",
   "metadata": {},
   "source": [
    "### Function 2"
   ]
  },
  {
   "cell_type": "code",
   "execution_count": null,
   "metadata": {
    "collapsed": true
   },
   "outputs": [],
   "source": [
    "def first_email(data):\n",
    "    first_email = []\n",
    "    for i in range(0, data.shape[0]):\n",
    "        data_slice = data.iloc[i, :]\n",
    "        is_date = data_slice.apply(is_datetime)\n",
    "        data_slice = data_slice[is_date]\n",
    "        is_value = data_slice.apply(is_not_nat)\n",
    "        data_slice = data_slice[is_value]\n",
    "        min_date = min(data_slice[is_date])\n",
    "        first_email.append(min_date)\n",
    "    return first_email"
   ]
  },
  {
   "cell_type": "code",
   "execution_count": null,
   "metadata": {
    "collapsed": false
   },
   "outputs": [],
   "source": [
    "start_time = time.clock()\n",
    "test_result_2 = first_email(df.iloc[:, 1:5])\n",
    "print time.clock() - start_time, \"seconds\""
   ]
  },
  {
   "cell_type": "code",
   "execution_count": null,
   "metadata": {
    "collapsed": false
   },
   "outputs": [],
   "source": [
    "test_result_2[-20:]"
   ]
  },
  {
   "cell_type": "markdown",
   "metadata": {},
   "source": [
    "##### Function 2\n",
    "Sample : 1000, Time: 1.067037 seconds\n",
    "\n",
    "Sample: All, Time : 673.597301 seconds"
   ]
  },
  {
   "cell_type": "markdown",
   "metadata": {},
   "source": [
    "### Function 3"
   ]
  },
  {
   "cell_type": "code",
   "execution_count": 9,
   "metadata": {
    "collapsed": true
   },
   "outputs": [],
   "source": [
    "def first_email_each(data_slice):\n",
    "    first_email = []\n",
    "    # subset with only datetime\n",
    "    is_date = data_slice.apply(is_datetime)\n",
    "    data_slice = data_slice[is_date]\n",
    "    \n",
    "    # subset without datetime_nat\n",
    "    is_value = data_slice.apply(is_not_nat)\n",
    "    data_slice = data_slice[is_value]\n",
    "    \n",
    "    min_date = min(data_slice[is_date])\n",
    "    first_email.append(min_date)\n",
    "    return first_email\n",
    "\n",
    "def first_email(data):\n",
    "    result = data.apply(first_email_each, axis = 1).iloc[:, 0]\n",
    "    return result"
   ]
  },
  {
   "cell_type": "code",
   "execution_count": 72,
   "metadata": {
    "collapsed": false
   },
   "outputs": [
    {
     "name": "stdout",
     "output_type": "stream",
     "text": [
      "55.881893 seconds\n"
     ]
    }
   ],
   "source": [
    "start_time = time.clock()\n",
    "test_result_3 = first_email(df.iloc[:30000, 1:5])\n",
    "print time.clock() - start_time, \"seconds\""
   ]
  },
  {
   "cell_type": "markdown",
   "metadata": {},
   "source": [
    "##### Function 3\n",
    "Sample : 1000, Time: 1.062652 seconds\n",
    "\n",
    "Sample: All, Time : 643.059334 seconds"
   ]
  },
  {
   "cell_type": "markdown",
   "metadata": {},
   "source": [
    "# Average Lifetime"
   ]
  },
  {
   "cell_type": "code",
   "execution_count": 57,
   "metadata": {
    "collapsed": false
   },
   "outputs": [],
   "source": [
    "df[\"First_email\"] = test_result_3 "
   ]
  },
  {
   "cell_type": "code",
   "execution_count": 58,
   "metadata": {
    "collapsed": false
   },
   "outputs": [],
   "source": [
    "df[\"Life_time\"] = df.First_email.values - df.created_at.values"
   ]
  },
  {
   "cell_type": "code",
   "execution_count": 59,
   "metadata": {
    "collapsed": false
   },
   "outputs": [
    {
     "data": {
      "text/plain": [
       "count                           3000\n",
       "mean     -5404 days +21:42:45.201333\n",
       "std        7988 days 04:33:29.889349\n",
       "min            -17211 days +06:15:17\n",
       "25%            -17207 days +02:28:14\n",
       "50%           1 days 23:24:02.500000\n",
       "75%           1 days 23:51:29.500000\n",
       "max                168 days 20:49:17\n",
       "Name: Life_time, dtype: object"
      ]
     },
     "execution_count": 59,
     "metadata": {},
     "output_type": "execute_result"
    }
   ],
   "source": [
    "df.Life_time.describe()"
   ]
  },
  {
   "cell_type": "code",
   "execution_count": 60,
   "metadata": {
    "collapsed": false
   },
   "outputs": [
    {
     "data": {
      "text/html": [
       "<div>\n",
       "<table border=\"1\" class=\"dataframe\">\n",
       "  <thead>\n",
       "    <tr style=\"text-align: right;\">\n",
       "      <th></th>\n",
       "      <th>created_at</th>\n",
       "      <th>baby101</th>\n",
       "      <th>news</th>\n",
       "      <th>preg</th>\n",
       "      <th>sponsor</th>\n",
       "      <th>DIVERSITY</th>\n",
       "      <th>referrer</th>\n",
       "      <th>source</th>\n",
       "      <th>First_email</th>\n",
       "      <th>Life_time</th>\n",
       "    </tr>\n",
       "  </thead>\n",
       "  <tbody>\n",
       "    <tr>\n",
       "      <th>0</th>\n",
       "      <td>2017-02-09 00:00:26</td>\n",
       "      <td>2017-02-06 20:20:31</td>\n",
       "      <td>2017-02-24 01:01:58</td>\n",
       "      <td>0</td>\n",
       "      <td>1970-01-01 00:00:00</td>\n",
       "      <td>2</td>\n",
       "      <td>0</td>\n",
       "      <td>checklist</td>\n",
       "      <td>1970-01-01 00:00:00</td>\n",
       "      <td>-17207 days +23:59:34</td>\n",
       "    </tr>\n",
       "    <tr>\n",
       "      <th>1</th>\n",
       "      <td>2017-02-09 00:02:52</td>\n",
       "      <td>2017-02-11 00:00:46</td>\n",
       "      <td>2017-03-03 01:01:53</td>\n",
       "      <td>0</td>\n",
       "      <td>2017-04-07 18:18:24</td>\n",
       "      <td>3</td>\n",
       "      <td>0</td>\n",
       "      <td>registry</td>\n",
       "      <td>2017-02-11 00:00:46</td>\n",
       "      <td>1 days 23:57:54</td>\n",
       "    </tr>\n",
       "    <tr>\n",
       "      <th>2</th>\n",
       "      <td>2017-02-09 00:03:06</td>\n",
       "      <td>2017-02-11 00:00:53</td>\n",
       "      <td>2017-03-03 01:01:56</td>\n",
       "      <td>0</td>\n",
       "      <td>1970-01-01 00:00:00</td>\n",
       "      <td>2</td>\n",
       "      <td>0</td>\n",
       "      <td>registry</td>\n",
       "      <td>1970-01-01 00:00:00</td>\n",
       "      <td>-17207 days +23:56:54</td>\n",
       "    </tr>\n",
       "  </tbody>\n",
       "</table>\n",
       "</div>"
      ],
      "text/plain": [
       "           created_at             baby101                news preg  \\\n",
       "0 2017-02-09 00:00:26 2017-02-06 20:20:31 2017-02-24 01:01:58    0   \n",
       "1 2017-02-09 00:02:52 2017-02-11 00:00:46 2017-03-03 01:01:53    0   \n",
       "2 2017-02-09 00:03:06 2017-02-11 00:00:53 2017-03-03 01:01:56    0   \n",
       "\n",
       "              sponsor  DIVERSITY referrer     source         First_email  \\\n",
       "0 1970-01-01 00:00:00          2        0  checklist 1970-01-01 00:00:00   \n",
       "1 2017-04-07 18:18:24          3        0   registry 2017-02-11 00:00:46   \n",
       "2 1970-01-01 00:00:00          2        0   registry 1970-01-01 00:00:00   \n",
       "\n",
       "              Life_time  \n",
       "0 -17207 days +23:59:34  \n",
       "1       1 days 23:57:54  \n",
       "2 -17207 days +23:56:54  "
      ]
     },
     "execution_count": 60,
     "metadata": {},
     "output_type": "execute_result"
    }
   ],
   "source": [
    "df.head(3)"
   ]
  },
  {
   "cell_type": "markdown",
   "metadata": {},
   "source": [
    "# Data Cleaning"
   ]
  },
  {
   "cell_type": "markdown",
   "metadata": {},
   "source": [
    "We found that some users' subscription date is much earlier than the created date, therefore, here we make some data cleaning before analytics part. "
   ]
  },
  {
   "cell_type": "code",
   "execution_count": 73,
   "metadata": {
    "collapsed": true
   },
   "outputs": [],
   "source": [
    "def data_cleaning_avg_life(data):\n",
    "    return data[data.First_email > data.created_at]"
   ]
  },
  {
   "cell_type": "code",
   "execution_count": 74,
   "metadata": {
    "collapsed": false
   },
   "outputs": [
    {
     "data": {
      "text/plain": [
       "(1777, 10)"
      ]
     },
     "execution_count": 74,
     "metadata": {},
     "output_type": "execute_result"
    }
   ],
   "source": [
    "df = data_cleaning_avg_life(df)"
   ]
  },
  {
   "cell_type": "code",
   "execution_count": 75,
   "metadata": {
    "collapsed": false
   },
   "outputs": [
    {
     "data": {
      "text/plain": [
       "giveaway                   339626\n",
       "checklist                  313118\n",
       "registry                   148644\n",
       "email:pregnancy:direct      16436\n",
       "event                        1099\n",
       "email:newsletter:widget       312\n",
       "email:pregnancy:widget        153\n",
       "0                              86\n",
       "Name: source, dtype: int64"
      ]
     },
     "execution_count": 75,
     "metadata": {},
     "output_type": "execute_result"
    }
   ],
   "source": [
    "df.source.value_counts()"
   ]
  },
  {
   "cell_type": "code",
   "execution_count": 76,
   "metadata": {
    "collapsed": false
   },
   "outputs": [],
   "source": [
    "def group_by(cat):\n",
    "    print(\"----------------\")\n",
    "    print cat\n",
    "    print df[df.source == cat].Life_time.mean()"
   ]
  },
  {
   "cell_type": "code",
   "execution_count": 77,
   "metadata": {
    "collapsed": false
   },
   "outputs": [
    {
     "name": "stdout",
     "output_type": "stream",
     "text": [
      "----------------\n",
      "checklist\n",
      "-9 days +08:45:41.445595\n",
      "----------------\n",
      "registry\n",
      "-91 days +03:24:08.349358\n",
      "----------------\n",
      "0\n",
      "0 days 00:00:00\n",
      "----------------\n",
      "giveaway\n",
      "0 days 00:00:00\n",
      "----------------\n",
      "email:pregnancy:direct\n",
      "0 days 00:00:00\n",
      "----------------\n",
      "email:newsletter:widget\n",
      "0 days 00:00:00\n",
      "----------------\n",
      "email:pregnancy:widget\n",
      "0 days 00:00:00\n",
      "----------------\n",
      "event\n",
      "0 days 00:00:00\n"
     ]
    },
    {
     "data": {
      "text/plain": [
       "0    None\n",
       "1    None\n",
       "2    None\n",
       "3    None\n",
       "4    None\n",
       "5    None\n",
       "6    None\n",
       "7    None\n",
       "dtype: object"
      ]
     },
     "execution_count": 77,
     "metadata": {},
     "output_type": "execute_result"
    }
   ],
   "source": [
    "pd.Series(df.source.unique()).apply(group_by)"
   ]
  },
  {
   "cell_type": "markdown",
   "metadata": {},
   "source": [
    "# Conclusion:\n",
    "\n",
    "We are able to compute the average lifetime and compare them by different sources. However, here we found some users' first subscription date is earilier than the created date. Therefore, we made some cleaning base on our assumption. And finally we found out the average lifetime is different according to different sources. We may take a closer look at it in next section. "
   ]
  }
 ],
 "metadata": {
  "anaconda-cloud": {},
  "kernelspec": {
   "display_name": "Python [conda root]",
   "language": "python",
   "name": "conda-root-py"
  },
  "language_info": {
   "codemirror_mode": {
    "name": "ipython",
    "version": 2
   },
   "file_extension": ".py",
   "mimetype": "text/x-python",
   "name": "python",
   "nbconvert_exporter": "python",
   "pygments_lexer": "ipython2",
   "version": "2.7.12"
  }
 },
 "nbformat": 4,
 "nbformat_minor": 2
}
